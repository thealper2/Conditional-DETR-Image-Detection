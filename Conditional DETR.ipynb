{
 "cells": [
  {
   "cell_type": "code",
   "execution_count": 2,
   "id": "92e6033e",
   "metadata": {},
   "outputs": [],
   "source": [
    "import torch\n",
    "import warnings\n",
    "from PIL import Image, ImageDraw\n",
    "import matplotlib.pyplot as plt\n",
    "import random\n",
    "import torch\n",
    "from transformers import ConditionalDetrFeatureExtractor, ConditionalDetrForObjectDetection\n",
    "\n",
    "warnings.filterwarnings(\"ignore\")"
   ]
  },
  {
   "cell_type": "code",
   "execution_count": 3,
   "id": "8686af49",
   "metadata": {},
   "outputs": [],
   "source": [
    "MODEL_NAME = \"microsoft/conditional-detr-resnet-50\"\n",
    "feature_extractor = ConditionalDetrFeatureExtractor.from_pretrained(MODEL_NAME)\n",
    "model = ConditionalDetrForObjectDetection.from_pretrained(MODEL_NAME)"
   ]
  },
  {
   "cell_type": "code",
   "execution_count": 4,
   "id": "dd2358b2",
   "metadata": {},
   "outputs": [],
   "source": [
    "image = Image.open(\"000000039769.jpg\")"
   ]
  },
  {
   "cell_type": "code",
   "execution_count": 5,
   "id": "b778709e",
   "metadata": {},
   "outputs": [],
   "source": [
    "inputs = feature_extractor(images=image, return_tensors=\"pt\")\n",
    "outputs = model(**inputs)"
   ]
  },
  {
   "cell_type": "code",
   "execution_count": 6,
   "id": "76c51cf6",
   "metadata": {},
   "outputs": [],
   "source": [
    "size = image.size\n",
    "target_sizes = torch.tensor((size[1], size[0])).unsqueeze(0)\n",
    "results = feature_extractor.post_process(outputs, target_sizes)[0]\n",
    "filters = results['scores'] > 0.5"
   ]
  },
  {
   "cell_type": "code",
   "execution_count": 7,
   "id": "83cc9912",
   "metadata": {},
   "outputs": [],
   "source": [
    "scores = results['scores'][filters].tolist()\n",
    "labels = results['labels'][filters].tolist()\n",
    "boxes = results['boxes'][filters].tolist()"
   ]
  },
  {
   "cell_type": "code",
   "execution_count": 8,
   "id": "a11471d3",
   "metadata": {},
   "outputs": [
    {
     "name": "stdout",
     "output_type": "stream",
     "text": [
      "Object Count:  5\n",
      "Found Labels:\n",
      "cat\n",
      "remote\n",
      "couch\n"
     ]
    }
   ],
   "source": [
    "print(\"Object Count: \", len(labels))\n",
    "print(\"Found Labels:\")\n",
    "for i in set(labels):\n",
    "    print(model.config.id2label[i])"
   ]
  },
  {
   "cell_type": "code",
   "execution_count": 9,
   "id": "5e2d538c",
   "metadata": {},
   "outputs": [],
   "source": [
    "def generate_random_color():\n",
    "    r = random.uniform(0, 1)\n",
    "    g = random.uniform(0, 1)\n",
    "    b = random.uniform(0, 1)\n",
    "    return [r, g, b]"
   ]
  },
  {
   "cell_type": "code",
   "execution_count": null,
   "id": "49562ad8",
   "metadata": {},
   "outputs": [],
   "source": [
    "fig, ax = plt.subplots()\n",
    "ax.imshow(image)\n",
    "\n",
    "for score, box, label in zip(scores, boxes, labels):\n",
    "    xmin, ymin, xmax, ymax = box\n",
    "    color = generate_random_color()\n",
    "    rect = plt.Rectangle((xmin, ymin), xmax - xmin, ymax - ymin, fill=False, edgecolor=color)\n",
    "    ax.add_patch(rect)\n",
    "    text = f\"{model.config.id2label[label]}: {score:.2f}\"\n",
    "    ax.text(xmin, ymin, text, fontsize=8, color=\"white\", verticalalignment=\"top\")\n",
    "    \n",
    "plt.axis(\"off\")\n",
    "plt.show()"
   ]
  },
  {
   "cell_type": "code",
   "execution_count": null,
   "id": "026877f7",
   "metadata": {},
   "outputs": [],
   "source": []
  }
 ],
 "metadata": {
  "kernelspec": {
   "display_name": "Python 3 (ipykernel)",
   "language": "python",
   "name": "python3"
  },
  "language_info": {
   "codemirror_mode": {
    "name": "ipython",
    "version": 3
   },
   "file_extension": ".py",
   "mimetype": "text/x-python",
   "name": "python",
   "nbconvert_exporter": "python",
   "pygments_lexer": "ipython3",
   "version": "3.11.2"
  }
 },
 "nbformat": 4,
 "nbformat_minor": 5
}
